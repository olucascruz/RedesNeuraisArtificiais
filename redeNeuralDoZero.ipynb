{
  "nbformat": 4,
  "nbformat_minor": 0,
  "metadata": {
    "colab": {
      "provenance": [],
      "authorship_tag": "ABX9TyNDV5YIhkp1ieoYG1VuDqZN"
    },
    "kernelspec": {
      "name": "python3",
      "display_name": "Python 3"
    },
    "language_info": {
      "name": "python"
    }
  },
  "cells": [
    {
      "cell_type": "code",
      "execution_count": 1,
      "metadata": {
        "id": "e_uGzxjLDn9k"
      },
      "outputs": [],
      "source": [
        "import numpy as np"
      ]
    },
    {
      "cell_type": "code",
      "source": [
        "x_treino = np.array([[0,0,1],\n",
        "                    [1,1,1],\n",
        "                    [1,0,1],\n",
        "                    [0,1,1]\n",
        "                  ])\n",
        "\n",
        "print(type(x_treino))"
      ],
      "metadata": {
        "colab": {
          "base_uri": "https://localhost:8080/"
        },
        "id": "AmgaV68QEDqO",
        "outputId": "1a964444-dec1-4f20-c5f1-ae2601c7dce8"
      },
      "execution_count": 2,
      "outputs": [
        {
          "output_type": "stream",
          "name": "stdout",
          "text": [
            "<class 'numpy.ndarray'>\n"
          ]
        }
      ]
    },
    {
      "cell_type": "code",
      "source": [
        "y_treino = np.array([[0,1,1,0]]).T\n",
        "print(y_treino)"
      ],
      "metadata": {
        "colab": {
          "base_uri": "https://localhost:8080/"
        },
        "id": "WBlWVFcNE1Uo",
        "outputId": "36e8a271-9478-41b8-dace-2a9aeb0c31d8"
      },
      "execution_count": 3,
      "outputs": [
        {
          "output_type": "stream",
          "name": "stdout",
          "text": [
            "[[0]\n",
            " [1]\n",
            " [1]\n",
            " [0]]\n"
          ]
        }
      ]
    },
    {
      "cell_type": "code",
      "source": [
        "np.random.seed(1)"
      ],
      "metadata": {
        "id": "w-KnLK0PFIUw"
      },
      "execution_count": 32,
      "outputs": []
    },
    {
      "cell_type": "code",
      "source": [
        "pesos = 2 * np.random.random((3,1)) - 1\n",
        "\n",
        "print(pesos)"
      ],
      "metadata": {
        "colab": {
          "base_uri": "https://localhost:8080/"
        },
        "id": "B_s5r49AFcAY",
        "outputId": "dbd93ef0-6516-4bb7-d8c4-6ab4fae0b7d6"
      },
      "execution_count": 33,
      "outputs": [
        {
          "output_type": "stream",
          "name": "stdout",
          "text": [
            "[[-0.16595599]\n",
            " [ 0.44064899]\n",
            " [-0.99977125]]\n"
          ]
        }
      ]
    },
    {
      "cell_type": "code",
      "source": [
        "def sigmoid(x):\n",
        "  return 1/(1+np.exp(-x))"
      ],
      "metadata": {
        "id": "iee0K_-DGOyL"
      },
      "execution_count": 6,
      "outputs": []
    },
    {
      "cell_type": "code",
      "source": [
        "def sigmoid_derivate(x):\n",
        "  return x*(1-x)"
      ],
      "metadata": {
        "id": "J-beCEN2GeDU"
      },
      "execution_count": 7,
      "outputs": []
    },
    {
      "cell_type": "code",
      "source": [
        "#Treinamento\n",
        "for i in range(10000):\n",
        "  input_layer = x_treino\n",
        "\n",
        "\n",
        "  output = sigmoid(np.dot(input_layer, pesos))\n",
        "  \n",
        "  erro = y_treino - output\n",
        "  ajuste = erro * sigmoid_derivate(output)\n",
        "\n",
        "  pesos += np.dot(input_layer.T, ajuste)\n",
        "  print(output)"
      ],
      "metadata": {
        "id": "xJWGgWUpG8jQ"
      },
      "execution_count": null,
      "outputs": []
    },
    {
      "cell_type": "code",
      "source": [
        "output = sigmoid(np.dot([1,0,0], pesos))\n",
        "print(np.around(output))"
      ],
      "metadata": {
        "colab": {
          "base_uri": "https://localhost:8080/"
        },
        "id": "Nz5BqdvUINzy",
        "outputId": "a179a296-842c-46f6-dc33-7deda38bbf22"
      },
      "execution_count": 46,
      "outputs": [
        {
          "output_type": "stream",
          "name": "stdout",
          "text": [
            "[1.]\n"
          ]
        }
      ]
    },
    {
      "cell_type": "markdown",
      "source": [
        "##A saída deve ser igual ao primeiro numero da lista\n",
        "\n",
        "Referência: https://ivory-fear-ca8.notion.site/Construindo-uma-Rede-Neural-do-Zero-8033777501344277942ead5f883b05e6"
      ],
      "metadata": {
        "id": "6Y02RSZTMFYT"
      }
    }
  ]
}