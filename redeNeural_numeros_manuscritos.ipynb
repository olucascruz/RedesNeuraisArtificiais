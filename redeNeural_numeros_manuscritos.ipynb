{
  "nbformat": 4,
  "nbformat_minor": 0,
  "metadata": {
    "colab": {
      "provenance": [],
      "authorship_tag": "ABX9TyM73OW1bGM4qdaff/gCt57V"
    },
    "kernelspec": {
      "name": "python3",
      "display_name": "Python 3"
    },
    "language_info": {
      "name": "python"
    }
  },
  "cells": [
    {
      "cell_type": "code",
      "execution_count": null,
      "metadata": {
        "id": "JpYV42sEPBrv"
      },
      "outputs": [],
      "source": [
        "# bloco de imports\n",
        "import keras\n",
        "from keras.datasets import mnist\n",
        "from tensorflow.python.keras import Sequential\n",
        "from tensorflow.python.keras.layers import Dense, Dropout\n",
        "from keras.optimizers import RMSprop\n",
        "\n",
        "#Dense = Neuronio, base da rede\n",
        "#Dropout = Regularizador, evita overfitting\n",
        "#RMSprop = BackPropagation - como a rede aprende\n"
      ]
    },
    {
      "cell_type": "code",
      "source": [
        "#Carregando os dados de treino e teste\n",
        "\n",
        "dataset = mnist.load_data()\n",
        "\n",
        "(x_treino, y_treino), (x_teste, y_teste) = dataset"
      ],
      "metadata": {
        "id": "OE0g35YZVZvP"
      },
      "execution_count": null,
      "outputs": []
    },
    {
      "cell_type": "code",
      "source": [
        "print(x_treino[0])"
      ],
      "metadata": {
        "colab": {
          "base_uri": "https://localhost:8080/"
        },
        "id": "dp4E2BoMWWgW",
        "outputId": "19afa96d-d82a-4d01-e576-401374fbcc28"
      },
      "execution_count": null,
      "outputs": [
        {
          "output_type": "stream",
          "name": "stdout",
          "text": [
            "[[  0   0   0   0   0   0   0   0   0   0   0   0   0   0   0   0   0   0\n",
            "    0   0   0   0   0   0   0   0   0   0]\n",
            " [  0   0   0   0   0   0   0   0   0   0   0   0   0   0   0   0   0   0\n",
            "    0   0   0   0   0   0   0   0   0   0]\n",
            " [  0   0   0   0   0   0   0   0   0   0   0   0   0   0   0   0   0   0\n",
            "    0   0   0   0   0   0   0   0   0   0]\n",
            " [  0   0   0   0   0   0   0   0   0   0   0   0   0   0   0   0   0   0\n",
            "    0   0   0   0   0   0   0   0   0   0]\n",
            " [  0   0   0   0   0   0   0   0   0   0   0   0   0   0   0   0   0   0\n",
            "    0   0   0   0   0   0   0   0   0   0]\n",
            " [  0   0   0   0   0   0   0   0   0   0   0   0   3  18  18  18 126 136\n",
            "  175  26 166 255 247 127   0   0   0   0]\n",
            " [  0   0   0   0   0   0   0   0  30  36  94 154 170 253 253 253 253 253\n",
            "  225 172 253 242 195  64   0   0   0   0]\n",
            " [  0   0   0   0   0   0   0  49 238 253 253 253 253 253 253 253 253 251\n",
            "   93  82  82  56  39   0   0   0   0   0]\n",
            " [  0   0   0   0   0   0   0  18 219 253 253 253 253 253 198 182 247 241\n",
            "    0   0   0   0   0   0   0   0   0   0]\n",
            " [  0   0   0   0   0   0   0   0  80 156 107 253 253 205  11   0  43 154\n",
            "    0   0   0   0   0   0   0   0   0   0]\n",
            " [  0   0   0   0   0   0   0   0   0  14   1 154 253  90   0   0   0   0\n",
            "    0   0   0   0   0   0   0   0   0   0]\n",
            " [  0   0   0   0   0   0   0   0   0   0   0 139 253 190   2   0   0   0\n",
            "    0   0   0   0   0   0   0   0   0   0]\n",
            " [  0   0   0   0   0   0   0   0   0   0   0  11 190 253  70   0   0   0\n",
            "    0   0   0   0   0   0   0   0   0   0]\n",
            " [  0   0   0   0   0   0   0   0   0   0   0   0  35 241 225 160 108   1\n",
            "    0   0   0   0   0   0   0   0   0   0]\n",
            " [  0   0   0   0   0   0   0   0   0   0   0   0   0  81 240 253 253 119\n",
            "   25   0   0   0   0   0   0   0   0   0]\n",
            " [  0   0   0   0   0   0   0   0   0   0   0   0   0   0  45 186 253 253\n",
            "  150  27   0   0   0   0   0   0   0   0]\n",
            " [  0   0   0   0   0   0   0   0   0   0   0   0   0   0   0  16  93 252\n",
            "  253 187   0   0   0   0   0   0   0   0]\n",
            " [  0   0   0   0   0   0   0   0   0   0   0   0   0   0   0   0   0 249\n",
            "  253 249  64   0   0   0   0   0   0   0]\n",
            " [  0   0   0   0   0   0   0   0   0   0   0   0   0   0  46 130 183 253\n",
            "  253 207   2   0   0   0   0   0   0   0]\n",
            " [  0   0   0   0   0   0   0   0   0   0   0   0  39 148 229 253 253 253\n",
            "  250 182   0   0   0   0   0   0   0   0]\n",
            " [  0   0   0   0   0   0   0   0   0   0  24 114 221 253 253 253 253 201\n",
            "   78   0   0   0   0   0   0   0   0   0]\n",
            " [  0   0   0   0   0   0   0   0  23  66 213 253 253 253 253 198  81   2\n",
            "    0   0   0   0   0   0   0   0   0   0]\n",
            " [  0   0   0   0   0   0  18 171 219 253 253 253 253 195  80   9   0   0\n",
            "    0   0   0   0   0   0   0   0   0   0]\n",
            " [  0   0   0   0  55 172 226 253 253 253 253 244 133  11   0   0   0   0\n",
            "    0   0   0   0   0   0   0   0   0   0]\n",
            " [  0   0   0   0 136 253 253 253 212 135 132  16   0   0   0   0   0   0\n",
            "    0   0   0   0   0   0   0   0   0   0]\n",
            " [  0   0   0   0   0   0   0   0   0   0   0   0   0   0   0   0   0   0\n",
            "    0   0   0   0   0   0   0   0   0   0]\n",
            " [  0   0   0   0   0   0   0   0   0   0   0   0   0   0   0   0   0   0\n",
            "    0   0   0   0   0   0   0   0   0   0]\n",
            " [  0   0   0   0   0   0   0   0   0   0   0   0   0   0   0   0   0   0\n",
            "    0   0   0   0   0   0   0   0   0   0]]\n"
          ]
        }
      ]
    },
    {
      "cell_type": "code",
      "source": [
        "import matplotlib.pyplot as plt\n",
        "\n",
        "indice = 45 \n",
        "print(\"essa imagem representa:\", y_treino[indice])\n",
        "\n",
        "plt.imshow(x_treino[indice], cmap=plt.cm.binary)\n",
        "plt.show()"
      ],
      "metadata": {
        "colab": {
          "base_uri": "https://localhost:8080/",
          "height": 282
        },
        "id": "cHbCsbu8qvKw",
        "outputId": "0c488cd3-acef-4c56-f387-82dab0ebd688"
      },
      "execution_count": null,
      "outputs": [
        {
          "output_type": "stream",
          "name": "stdout",
          "text": [
            "essa imagem representa: 9\n"
          ]
        },
        {
          "output_type": "display_data",
          "data": {
            "text/plain": [
              "<Figure size 432x288 with 1 Axes>"
            ],
            "image/png": "[encoded data removed]"
          },
          "metadata": {
            "needs_background": "light"
          }
        }
      ]
    },
    {
      "cell_type": "code",
      "source": [
        "#Achatando a matriz de pixel e transformando em uma unica lista\n",
        "\n",
        "quantidade_treino = len(x_treino)\n",
        "quantidade_teste = len(x_teste)\n",
        "\n",
        "resolucao_da_imagem = x_treino[0].shape #(28, 28)\n",
        "resolucao_total = resolucao_da_imagem[0] * resolucao_da_imagem[1] #28 * 28 = 784\n",
        "\n",
        "x_treino = x_treino.reshape(quantidade_treino, resolucao_total)\n",
        "x_teste = x_teste.reshape(quantidade_teste, resolucao_total)"
      ],
      "metadata": {
        "id": "LSh-I8v_toDh"
      },
      "execution_count": null,
      "outputs": []
    },
    {
      "cell_type": "code",
      "source": [
        "#Normalização dos dados - transforma o range de 0 até 255 , em 0 até 1 \n",
        "\n",
        "\n",
        "x_treino = x_treino.astype(\"float32\")\n",
        "x_teste = x_teste.astype(\"float32\")\n",
        "\n",
        "x_treino /= 255\n",
        "x_teste /= 255\n",
        "\n"
      ],
      "metadata": {
        "id": "aK3MVLhAxcb7"
      },
      "execution_count": null,
      "outputs": []
    },
    {
      "cell_type": "code",
      "source": [
        "valores_unicos = set(y_treino)\n",
        "quantidade_valores_unicos = len(valores_unicos)\n",
        "\n",
        "# Transformar valores unicos em variaveis categoricas.\n",
        "# ex: numero 1 = [1,0,0,0,0,0]\n",
        "# ex: numero 2 = [0,1,0,0,0,0]\n",
        "\n",
        "print(y_treino[0])\n",
        "\n",
        "y_treino = keras.utils.to_categorical(y_treino, quantidade_valores_unicos)\n",
        "y_teste = keras.utils.to_categorical(y_teste, quantidade_valores_unicos)\n",
        "\n",
        "print(y_treino[0])"
      ],
      "metadata": {
        "colab": {
          "base_uri": "https://localhost:8080/"
        },
        "id": "0jPhKfbg425A",
        "outputId": "1b401f20-8e8f-4340-84c6-06af8e6905e4"
      },
      "execution_count": null,
      "outputs": [
        {
          "output_type": "stream",
          "name": "stdout",
          "text": [
            "5\n",
            "[0. 0. 0. 0. 0. 1. 0. 0. 0. 0.]\n"
          ]
        }
      ]
    },
    {
      "cell_type": "code",
      "source": [
        "#Criando o modelo da rede neural.\n",
        "\n",
        "model = Sequential()\n",
        "\n",
        "#Primeira hidden layer\n",
        "#30 neuronios \n",
        "#Funcao de ativação = ReLu\n",
        "\n",
        "model.add(Dense(30, activation=\"relu\", input_shape=(resolucao_total,)))\n",
        "\n",
        "#Add um regularizador para evitar overfitting\n",
        "model.add(Dropout(0.2))\n",
        "\n",
        "#Segunda hidden layer\n",
        "model.add(Dense(20, activation=\"relu\"))\n",
        "\n",
        "#Add um regularizador para evitar overfitting\n",
        "model.add(Dropout(0.2))\n",
        "\n",
        "\n",
        "#Layer de saida \n",
        "model.add(Dense(quantidade_valores_unicos, activation=\"softmax\"))\n",
        "\n",
        "model.summary()\n"
      ],
      "metadata": {
        "colab": {
          "base_uri": "https://localhost:8080/"
        },
        "id": "W84xS0qh7d13",
        "outputId": "41f4ed3e-8e65-4ce9-c110-c5c299115990"
      },
      "execution_count": null,
      "outputs": [
        {
          "output_type": "stream",
          "name": "stdout",
          "text": [
            "Model: \"sequential_1\"\n",
            "_________________________________________________________________\n",
            "Layer (type)                 Output Shape              Param #   \n",
            "=================================================================\n",
            "dense_3 (Dense)              (None, 30)                23550     \n",
            "_________________________________________________________________\n",
            "dropout_2 (Dropout)          (None, 30)                0         \n",
            "_________________________________________________________________\n",
            "dense_4 (Dense)              (None, 20)                620       \n",
            "_________________________________________________________________\n",
            "dropout_3 (Dropout)          (None, 20)                0         \n",
            "_________________________________________________________________\n",
            "dense_5 (Dense)              (None, 10)                210       \n",
            "=================================================================\n",
            "Total params: 24,380\n",
            "Trainable params: 24,380\n",
            "Non-trainable params: 0\n",
            "_________________________________________________________________\n"
          ]
        }
      ]
    },
    {
      "cell_type": "code",
      "source": [
        "model.compile(loss='categorical_crossentropy',\n",
        "              metrics=[\"accuracy\"])"
      ],
      "metadata": {
        "id": "TUqh4Dz_CPky"
      },
      "execution_count": null,
      "outputs": []
    },
    {
      "cell_type": "code",
      "source": [
        "#Treina o modelo \n",
        "\n",
        "history = model.fit(x_treino, y_treino,\n",
        "                    batch_size = 128,\n",
        "                    epochs =10,\n",
        "                    verbose=1,\n",
        "                    validation_data=(x_teste, y_teste))"
      ],
      "metadata": {
        "colab": {
          "base_uri": "https://localhost:8080/"
        },
        "id": "Ea6K2aarFjC0",
        "outputId": "a47594a8-c8b0-4efe-9b9f-0033cd7775d3"
      },
      "execution_count": null,
      "outputs": [
        {
          "output_type": "stream",
          "name": "stdout",
          "text": [
            "Epoch 1/10\n",
            "469/469 [==============================] - 3s 5ms/step - loss: 0.8798 - accuracy: 0.7151 - val_loss: 0.3091 - val_accuracy: 0.9128\n",
            "Epoch 2/10\n",
            "469/469 [==============================] - 2s 4ms/step - loss: 0.4686 - accuracy: 0.8581 - val_loss: 0.2481 - val_accuracy: 0.9280\n",
            "Epoch 3/10\n",
            "469/469 [==============================] - 2s 4ms/step - loss: 0.4057 - accuracy: 0.8784 - val_loss: 0.2183 - val_accuracy: 0.9378\n",
            "Epoch 4/10\n",
            "469/469 [==============================] - 2s 4ms/step - loss: 0.3637 - accuracy: 0.8910 - val_loss: 0.1987 - val_accuracy: 0.9404\n",
            "Epoch 5/10\n",
            "469/469 [==============================] - 2s 4ms/step - loss: 0.3416 - accuracy: 0.8985 - val_loss: 0.1940 - val_accuracy: 0.9418\n",
            "Epoch 6/10\n",
            "469/469 [==============================] - 2s 4ms/step - loss: 0.3265 - accuracy: 0.9054 - val_loss: 0.1819 - val_accuracy: 0.9466\n",
            "Epoch 7/10\n",
            "469/469 [==============================] - 2s 4ms/step - loss: 0.3101 - accuracy: 0.9098 - val_loss: 0.1801 - val_accuracy: 0.9467\n",
            "Epoch 8/10\n",
            "469/469 [==============================] - 2s 4ms/step - loss: 0.3035 - accuracy: 0.9094 - val_loss: 0.1752 - val_accuracy: 0.9472\n",
            "Epoch 9/10\n",
            "469/469 [==============================] - 2s 4ms/step - loss: 0.2928 - accuracy: 0.9141 - val_loss: 0.1722 - val_accuracy: 0.9493\n",
            "Epoch 10/10\n",
            "469/469 [==============================] - 2s 4ms/step - loss: 0.2868 - accuracy: 0.9156 - val_loss: 0.1713 - val_accuracy: 0.9515\n"
          ]
        }
      ]
    },
    {
      "cell_type": "code",
      "source": [
        "#Fazendo previsões\n",
        "indice = 0\n",
        "while indice != -1:\n",
        "  indice = int(input(\"Indice: \"))\n",
        "\n",
        "  imagem = x_teste[indice].reshape(1,resolucao_total)\n",
        "  previsao = model.predict(imagem)\n",
        "\n",
        "  import numpy as np\n",
        "  previsao_categorica = np.argmax(previsao, axis=-1)\n",
        "\n",
        "  (x_treino_img, y_treino_img), (x_teste_img, y_teste_img) = mnist.load_data()\n",
        "  \n",
        "  print(\"Previsao: \", previsao_categorica)\n",
        "  print(\"Valor verdadeiro: \", y_teste_img[indice])\n",
        "  \n",
        "  plt.imshow(x_teste_img[indice], cmap=plt.cm.binary)\n",
        "  plt.show()"
      ],
      "metadata": {
        "id": "SNBY1fy8U2-H",
        "colab": {
          "base_uri": "https://localhost:8080/",
          "height": 617
        },
        "outputId": "b7bbc821-be3f-4530-d9b1-dae2f3a09a6d"
      },
      "execution_count": 43,
      "outputs": [
        {
          "output_type": "stream",
          "name": "stdout",
          "text": [
            "5\n",
            "Previsao:  [1]\n",
            "Valor verdadeiro:  1\n"
          ]
        },
        {
          "output_type": "display_data",
          "data": {
            "text/plain": [
              "<Figure size 432x288 with 1 Axes>"
            ],
            "image/png": "[encoded data removed]"
          },
          "metadata": {
            "needs_background": "light"
          }
        },
        {
          "output_type": "stream",
          "name": "stdout",
          "text": [
            "-1\n",
            "Previsao:  [6]\n",
            "Valor verdadeiro:  6\n"
          ]
        },
        {
          "output_type": "display_data",
          "data": {
            "text/plain": [
              "<Figure size 432x288 with 1 Axes>"
            ],
            "image/png": "[encoded data removed]"
          },
          "metadata": {
            "needs_background": "light"
          }
        }
      ]
    }
  ]
}